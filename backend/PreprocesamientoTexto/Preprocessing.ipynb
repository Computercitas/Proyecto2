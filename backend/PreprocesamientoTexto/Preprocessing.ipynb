{
 "cells": [
  {
   "cell_type": "code",
   "execution_count": 18,
   "metadata": {},
   "outputs": [],
   "source": [
    "import pandas as pd\n",
    "import nltk\n",
    "from nltk.corpus import stopwords\n",
    "from nltk.tokenize import word_tokenize\n",
    "from nltk.stem import SnowballStemmer"
   ]
  },
  {
   "cell_type": "code",
   "execution_count": 26,
   "metadata": {},
   "outputs": [],
   "source": [
    "#Load data\n",
    "csv_file = \"C:/Users/davie/VSCode_projects/Proyecto2/backend/data/spotify_songs_100.csv\"  # Replace with your CSV file path\n",
    "df = pd.read_csv(csv_file)"
   ]
  },
  {
   "cell_type": "markdown",
   "metadata": {},
   "source": [
    "### Analizar bd y eliminar columnas no utilizadas"
   ]
  },
  {
   "cell_type": "code",
   "execution_count": 27,
   "metadata": {},
   "outputs": [
    {
     "name": "stdout",
     "output_type": "stream",
     "text": [
      "Index(['track_id', 'track_name', 'track_artist', 'lyrics', 'track_popularity',\n",
      "       'track_album_id', 'track_album_name', 'track_album_release_date',\n",
      "       'playlist_name', 'playlist_id', 'playlist_genre', 'playlist_subgenre',\n",
      "       'danceability', 'energy', 'key', 'loudness', 'mode', 'speechiness',\n",
      "       'acousticness', 'instrumentalness', 'liveness', 'valence', 'tempo',\n",
      "       'duration_ms', 'language'],\n",
      "      dtype='object')\n"
     ]
    }
   ],
   "source": [
    "print(df.columns)"
   ]
  },
  {
   "cell_type": "code",
   "execution_count": 28,
   "metadata": {},
   "outputs": [
    {
     "name": "stdout",
     "output_type": "stream",
     "text": [
      "Sorted by count (value): {'en': 79, 'es': 12, 'it': 2, 'tl': 1, 'et': 1, 'fr': 1, 'pl': 1, 'nl': 1, 'pt': 1}\n"
     ]
    }
   ],
   "source": [
    "from collections import defaultdict\n",
    "import pandas as pd\n",
    "\n",
    "languages = defaultdict(int)\n",
    "\n",
    "for _, row in df.iterrows(): #ver el language de cada linea\n",
    "    language = str(row[\"language\"]) \n",
    "    languages[language] += 1  \n",
    "\n",
    "sorted_languages_by_value = dict(sorted(languages.items(), key=lambda item: item[1], reverse=True))\n",
    "print(\"Sorted by count (value):\", sorted_languages_by_value)"
   ]
  },
  {
   "cell_type": "markdown",
   "metadata": {},
   "source": [
    "Como el 85% de las canciones (bd completa) están en ingles vamos a quedarnos solo con esas canciones"
   ]
  },
  {
   "cell_type": "code",
   "execution_count": 30,
   "metadata": {},
   "outputs": [
    {
     "name": "stdout",
     "output_type": "stream",
     "text": [
      "(79, 25)\n"
     ]
    }
   ],
   "source": [
    "df_english = df[df['language'] == \"en\"]\n",
    "print(df_english.shape)"
   ]
  },
  {
   "cell_type": "code",
   "execution_count": 31,
   "metadata": {},
   "outputs": [
    {
     "name": "stdout",
     "output_type": "stream",
     "text": [
      "<class 'pandas.core.frame.DataFrame'>\n",
      "Index: 79 entries, 1 to 98\n",
      "Data columns (total 25 columns):\n",
      " #   Column                    Non-Null Count  Dtype  \n",
      "---  ------                    --------------  -----  \n",
      " 0   track_id                  79 non-null     object \n",
      " 1   track_name                79 non-null     object \n",
      " 2   track_artist              79 non-null     object \n",
      " 3   lyrics                    79 non-null     object \n",
      " 4   track_popularity          79 non-null     int64  \n",
      " 5   track_album_id            79 non-null     object \n",
      " 6   track_album_name          79 non-null     object \n",
      " 7   track_album_release_date  79 non-null     object \n",
      " 8   playlist_name             79 non-null     object \n",
      " 9   playlist_id               79 non-null     object \n",
      " 10  playlist_genre            79 non-null     object \n",
      " 11  playlist_subgenre         79 non-null     object \n",
      " 12  danceability              79 non-null     float64\n",
      " 13  energy                    79 non-null     float64\n",
      " 14  key                       79 non-null     int64  \n",
      " 15  loudness                  79 non-null     float64\n",
      " 16  mode                      79 non-null     int64  \n",
      " 17  speechiness               79 non-null     float64\n",
      " 18  acousticness              79 non-null     float64\n",
      " 19  instrumentalness          79 non-null     float64\n",
      " 20  liveness                  79 non-null     float64\n",
      " 21  valence                   79 non-null     float64\n",
      " 22  tempo                     79 non-null     float64\n",
      " 23  duration_ms               79 non-null     int64  \n",
      " 24  language                  79 non-null     object \n",
      "dtypes: float64(9), int64(4), object(12)\n",
      "memory usage: 16.0+ KB\n"
     ]
    }
   ],
   "source": [
    "df_english.info()"
   ]
  },
  {
   "cell_type": "markdown",
   "metadata": {},
   "source": [
    "Eliminamos las columnas numericas e irrelevantes para nosotros (ya que queremos hacer consultas como frases en lenguaje natural)"
   ]
  },
  {
   "cell_type": "code",
   "execution_count": 32,
   "metadata": {},
   "outputs": [
    {
     "name": "stdout",
     "output_type": "stream",
     "text": [
      "Index(['track_id', 'track_name', 'track_artist', 'lyrics', 'track_album_name'], dtype='object')\n"
     ]
    }
   ],
   "source": [
    "selected_cols = [\"track_id\",\"track_name\",\"track_artist\",\"lyrics\",\"track_album_name\"]\n",
    "df_english = df_english[selected_cols]\n",
    "print(df_english.columns)"
   ]
  },
  {
   "cell_type": "markdown",
   "metadata": {},
   "source": [
    "Concatenamos las columnas textuales en una sola columna"
   ]
  },
  {
   "cell_type": "code",
   "execution_count": 33,
   "metadata": {},
   "outputs": [
    {
     "name": "stdout",
     "output_type": "stream",
     "text": [
      "Index(['track_id', 'track_name', 'track_artist', 'lyrics', 'track_album_name',\n",
      "       'text'],\n",
      "      dtype='object')\n"
     ]
    }
   ],
   "source": [
    "#df_english = df_english.fillna('') #caso hayan nulos\n",
    "df_english['text'] = df_english['track_name'] + ' ' + df_english['track_artist'] + ' ' + df_english['lyrics'] + ' ' + df_english['track_album_name']\n",
    "print(df_english.columns)\n"
   ]
  },
  {
   "cell_type": "markdown",
   "metadata": {},
   "source": [
    "Dejamos solamente el id (primary key) y la columna con los textos concatenados"
   ]
  },
  {
   "cell_type": "code",
   "execution_count": 34,
   "metadata": {},
   "outputs": [
    {
     "name": "stdout",
     "output_type": "stream",
     "text": [
      "Index(['track_id', 'text'], dtype='object')\n",
      "                        track_id  \\\n",
      "1         004s3t0ONYlzxII9PLgU6z   \n",
      "2  00chLpzhgVjxs1ApparelzKC9UScL   \n",
      "3         00cqd6ZsSkLZqGMlQCR0Zo   \n",
      "4         00emjlCv9azBN0fzuuyLqy   \n",
      "5         00f9VGHfQhAHMCQ2bSjg3D   \n",
      "\n",
      "                                                text  \n",
      "1  I Feel Alive Steady Rollin The trees, are sing...  \n",
      "2  Poison Bell Biv DeVoe NA Yeah, Spyderman and F...  \n",
      "3  Baby It's Cold Outside (feat. Christina Aguile...  \n",
      "4  Dumb Litty KARD Get up out of my business You ...  \n",
      "5  Soldier James TW Hold your breath, don't look ...  \n"
     ]
    }
   ],
   "source": [
    "final_cols = [\"track_id\", \"text\"]\n",
    "df_concat = df_english[final_cols]\n",
    "print(df_concat.columns)\n",
    "print(df_concat.head())"
   ]
  },
  {
   "cell_type": "code",
   "execution_count": 35,
   "metadata": {},
   "outputs": [],
   "source": [
    "#Guardo el nuevo dataframe en un csv\n",
    "df_concat.to_csv(\"spotify_songs_100_english.csv\")"
   ]
  },
  {
   "cell_type": "markdown",
   "metadata": {},
   "source": [
    "### Preprocesamiento del texto"
   ]
  }
 ],
 "metadata": {
  "kernelspec": {
   "display_name": "Python 3",
   "language": "python",
   "name": "python3"
  },
  "language_info": {
   "codemirror_mode": {
    "name": "ipython",
    "version": 3
   },
   "file_extension": ".py",
   "mimetype": "text/x-python",
   "name": "python",
   "nbconvert_exporter": "python",
   "pygments_lexer": "ipython3",
   "version": "3.10.5"
  }
 },
 "nbformat": 4,
 "nbformat_minor": 2
}
