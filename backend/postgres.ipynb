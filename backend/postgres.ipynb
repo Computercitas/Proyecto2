{
 "cells": [
  {
   "cell_type": "code",
   "execution_count": 1,
   "metadata": {},
   "outputs": [],
   "source": [
    "import psycopg2 as pg\n",
    "import pandas as pd"
   ]
  },
  {
   "cell_type": "code",
   "execution_count": 2,
   "metadata": {},
   "outputs": [
    {
     "name": "stdout",
     "output_type": "stream",
     "text": [
      "Te conectaste -  ('PostgreSQL 17.0 (Debian 17.0-1.pgdg120+1) on x86_64-pc-linux-gnu, compiled by gcc (Debian 12.2.0-14) 12.2.0, 64-bit',) \n",
      "\n",
      "Usuario actual -  ('edd',) \n",
      "\n"
     ]
    }
   ],
   "source": [
    "try:\n",
    "\tconnection = pg.connect(\n",
    "\t\tuser = \"edd\",\n",
    "\t\tpassword = \"PlatoN03\",\n",
    "\t\thost = \"localhost\",\n",
    "\t\tport = \"5432\",\n",
    "\t\tdatabase = \"edd_db\"\n",
    "\t)\n",
    "\n",
    "\tcursor = connection.cursor()\n",
    "\tcursor.execute(\"SELECT version();\")\n",
    "\trecord = cursor.fetchone()\n",
    "\tprint(\"Te conectaste - \", record, \"\\n\")\n",
    "\n",
    "\t# Mostar usuario\n",
    "\tcursor.execute(\"SELECT current_user;\")\n",
    "\trecord = cursor.fetchone()\n",
    "\tprint(\"Usuario actual - \", record, \"\\n\")\n",
    "except (Exception, pg.Error) as error:\n",
    "\tprint(\"Error while connecting to PostgreSQL\", error)\n"
   ]
  },
  {
   "cell_type": "code",
   "execution_count": 3,
   "metadata": {},
   "outputs": [],
   "source": [
    "def execute_query(connection, query):\n",
    "\ttry:\n",
    "\t\tcursor = connection.cursor()\n",
    "\t\tcursor.execute(query)\n",
    "\t\tconnection.commit()\n",
    "\t\tprint(\"Query se ejecuto correctamente.\")\n",
    "\texcept (Exception, pg.Error) as error:\n",
    "\t\tprint(\"Error en la ejecucion de la query: \", error)"
   ]
  },
  {
   "cell_type": "code",
   "execution_count": 4,
   "metadata": {},
   "outputs": [
    {
     "name": "stdout",
     "output_type": "stream",
     "text": [
      "Query se ejecuto correctamente.\n",
      "Esquema: db2 creado.\n",
      "\n",
      "Tabla: spotify_songs en el esquema db2 creada.\n",
      "\n",
      "Datos insertados en la tabla spotify_songs.\n",
      "\n"
     ]
    }
   ],
   "source": [
    "\n",
    "# Leer el archivo CSV\n",
    "csv_path = '../data/spotify_songs.csv'\n",
    "df = pd.read_csv(csv_path)\n",
    "\n",
    "if connection is not None:\n",
    "    # Crear esquema db2\n",
    "    create_schema_query = \"CREATE SCHEMA IF NOT EXISTS db2;\"\n",
    "    execute_query(connection, create_schema_query)\n",
    "    print(\"Esquema: db2 creado.\\n\")\n",
    "\n",
    "    create_table_query = \"\"\"\n",
    "    CREATE TABLE IF NOT EXISTS db2.spotify_songs (\n",
    "            id SERIAL PRIMARY KEY,\n",
    "            track_name VARCHAR,\n",
    "            track_artist VARCHAR,\n",
    "            lyrics TEXT\n",
    "    );\n",
    "    \"\"\"\n",
    "    cursor.execute(create_table_query)\n",
    "    print(\"Tabla: spotify_songs en el esquema db2 creada.\\n\")\n",
    "\n",
    "    for index, row in df.iterrows():\n",
    "        insert_query = \"\"\"\n",
    "        INSERT INTO db2.spotify_songs (\n",
    "                track_name, track_artist, lyrics\n",
    "        ) VALUES (%s, %s, %s)\n",
    "        \"\"\"\n",
    "        cursor.execute(insert_query, (row['track_name'], row['track_artist'], row['lyrics']))\n",
    "    \n",
    "    connection.commit()\n",
    "    print(\"Datos insertados en la tabla spotify_songs.\\n\")\n",
    "\n",
    "else:\n",
    "    print(\"Error en la conexión con la base de datos.\")"
   ]
  },
  {
   "cell_type": "code",
   "execution_count": 5,
   "metadata": {},
   "outputs": [
    {
     "name": "stdout",
     "output_type": "stream",
     "text": [
      "Query se ejecuto correctamente.\n",
      "Query se ejecuto correctamente.\n",
      "Query se ejecuto correctamente.\n",
      "Query se ejecuto correctamente.\n"
     ]
    }
   ],
   "source": [
    "# Crear indice GIN\n",
    "add_colum_query = \"\"\"ALTER TABLE db2.spotify_songs ADD COLUMN tsv tsvector;\"\"\"\n",
    "create_indx_query = \"\"\"CREATE INDEX idx_fts ON db2.spotify_songs USING GIN(tsv);\"\"\"\n",
    "up_query = \"UPDATE db2.spotify_songs SET tsv = to_tsvector('spanish', track_name || ' ' || track_artist || ' ' || lyrics);\"\n",
    "trigger_query = \"\"\"\n",
    "CREATE TRIGGER tsvectorupdate BEFORE INSERT OR UPDATE ON db2.spotify_songs\n",
    "FOR EACH ROW EXECUTE FUNCTION tsvector_update_trigger(tsv, 'pg_catalog.spanish', track_name, track_artist, lyrics);\n",
    "\"\"\"\n",
    "\n",
    "execute_query(connection, add_colum_query)\n",
    "execute_query(connection, create_indx_query)\n",
    "execute_query(connection, up_query)\n",
    "execute_query(connection, trigger_query)\n"
   ]
  },
  {
   "cell_type": "code",
   "execution_count": 6,
   "metadata": {},
   "outputs": [
    {
     "name": "stdout",
     "output_type": "stream",
     "text": [
      "(199, 'Ich Binnezz', 'Bonez MC', \"Diggah richtig fies Sub-Sub-Subwoofer Bass pumpt richtig tief Ficker für die Enemies Flagge aus'm Autofenster find ich mies Boomshalaklak wer macht Umsatz bei Nacht Yo, Baga mit der Tasche voller funkelnder Buds Kapuziner, Mandrill unfassbar krass Herz pumpt 808 wie ein Untergangsbass Dass er diese Schiene ernsthaft fährt Man ich glaube die Musik hat sein Gehirn zerstört Guck in Spiegel sag für mich ist dieser Kerl was wert Denn der Typ strahlt aus wie ein Kernkraftwerk Menschen werden nicht durch ihre Gegend zugekifft Du hast keine Meinung solange du nicht weißt wer du bist Mieses Genie wir waren nie so wie die Hamburger Rapper reden von Melancholie (tss) Capa Zeen MC Mehrfach gespaltet so wie'n Schizophrenie Doch ich bleib Untergrund mit paar hundert Jungs Wenn wir kommen wird es schon mal bunt unter uns Niemand hält den Hunger stumm Denn wir lungern und betteln mit unseren Nummern rum Restart 187ers zweifeln niemals an der Ziehkraft meiner Features wie krass Magazin lad nach Capa schießt scharf und verteile dich in Splittergruppen wie Glas Kaum Kraut aber viel Gras wenn ich sie knarz Von dem Zwiespalt ich glaub ich schieb hart auf den Streets nachts Kleben geblieben wie Epoxidharz Ja ich bin es Capa Zeen Gar nichts schlimmes Blasphemie Alles Schnackers Labbern viel Motherfuckers Fantasie Meine Kette so dick sie drückt aufs Genick Ihr Arsch so fett sie strippt nur für mich Diese Nutte zieht die Blicke auf sich Bitte fass mich nicht an geh zurück auf dein Tisch Bonez, guck es ist wie es ist Bis zum jüngsten Gericht mach ich Buisness mit Gift Und nehm keine Rücksicht auf Nichts Kippe Essig auf Fisch und die Chips Halte es unten mit C-A-P-U-Z Wir machen Geld so wie Beate Uhse Observationen verfehlte Versuche Wir lassen sie stehen wie Reeperbahn-Huren Geh mal zur Schule Vorbildfunktionen (pff) Kofferraum voll mit Kanonen Nein, uns kann der Teufel nicht holen Wir wollen die Millionen und goldene Kronen Gehirn verklebt, meine Lunge ein Wrack Ich fress euch am Stück dieser Junge macht Schnapp Die Sonne im Rücken, die Wumme am Sack Klick Klack dein Puller wird schlapp Trage die TN's Fahr durch die Gegend Haken geben, Schlag auf dein Schädel Hase kleben, Spaß mit dein Mädchen Lass sie blasen und gehen Spar dir das Reden du solltest dich schämen Hamburg-West Bahrenfeld da wo wir leben Bargeld bewegen, die Straße am beben Beten, keine Zeit Schafe zu zählen Krokodile, sie lauern dir auf Pitbulls trainieren und powern sich aus Junkies am schwitzen mit Kauer sind drauf Deutscher Rap nur ein Fake so wie Bauer sucht Frau Ja ich bin es BonezMC Das nichts schlimmes Heroin Alles Schnackers Labbern viel Motherfuckers Fantasie\", \"'187ers':159 '808':47 'aber':184 'alles':217,457 'am':347,359,412,432 'an':162,251 'arsch':232 'auf':199,245,254,277,281,378,424 'aufs':229 'aus':21,81,430 'autofenst':23 'bag':34 'bahrenfeld':403 'bargeld':408 'bass':12 'bau':445 'beat':301 'beb':413 'bei':31 'bet':414 'betteln':153 'beweg':409 'bin':209,450 'binnezz':2 'bis':264 'bist':102 'bitt':247 'blas':389 'blasphemi':216 'bleib':128 'blick':244 'bonez':3,257 'bonezmc':452 'boomshalaklak':27 'buds':40 'buisness':270 'bunt':141 'c':291 'c-a-p-u-z':290 'cap':117,172,211 'chips':285 'da':404 'das':394,453 'dass':51 'dein':255,363,379,385 'dem':192 'den':146,200 'denn':77,149 'der':36,78,163,327 'deutsch':438 'dich':177,398 'dick':226 'die':18,60,110,243,284,333,353,357,368,373,410 'dies':53,73,240,349 'diggah':5 'dir':393,423 'doch':126 'drauf':437 'drückt':228 'du':92,97,101,396 'durch':88,372 'ein':49,83,342,441 'enemi':19 'epoxidharz':206 'er':52 'ernsthaft':55 'essig':280 'euch':346 'fahr':371 'fak':442 'fantasi':222,462 'fass':248 'featur':166 'fett':234 'fick':16 'fies':7 'find':24 'fisch':282 'flagg':20 'frau':447 'fress':345 'funkelnd':39 'fährt':56 'für':17,70,238 'gar':213 'geb':376 'geblieb':204 'gegend':90,374 'geh':252,314,391 'gehirn':64,338 'geld':298 'geni':104 'genick':230 'gericht':267 'gespaltet':121 'gift':272 'glas':181 'glaub':59,195 'golden':336 'gras':186 'guck':66,258 'hak':375 'halt':286 'hamburg':111,401 'hamburg-west':400 'hart':198 'has':381 'hast':93 'hat':62 'heroin':456 'herz':45 'hol':330 'hundert':132 'hung':147 'hur':313 'hält':145 'ich':1,25,58,127,188,194,196,208,269,344,449 'ihr':231 'ihre':89 'im':355 'in':67,178 'ist':72,260,263 'ja':207,448 'jung':350 'jungs':133 'junki':431 'jüngst':266 'kann':326 'kanon':323 'kapuzin':41 'kau':435 'kaum':182 'kein':94,275,415 'kerl':74 'kernkraftwerk':84 'kett':224 'kipp':279 'klack':362 'kleb':203,382 'klick':361 'knarz':190 'kofferraum':320 'komm':136 'krass':44,168 'kraut':183 'krokodil':420 'kron':337 'labbern':219,459 'lad':170 'lass':307,387 'lauern':422 'leb':407 'lung':341 'lungern':151 'm':22 'mach':268,297 'macht':29,351 'magazin':169 'mal':140,315 'man':57 'mandrill':42 'mc':4,119 'mehrfach':120 'mein':165,223,340 'meinung':95 'melancholi':115 'mensch':85 'mich':71,239,249 'mies':26,103 'million':334 'mit':35,130,154,271,289,322,384,434 'motherfuckers':221,461 'musik':61 'mädchen':386 'n':124 'nach':171 'nacht':32 'nachts':202 'nehm':274 'nein':324 'nicht':87,98,250,329 'nichts':214,278,454 'nie':107 'niemals':161 'niemand':144 'nummern':156 'nur':237,440 'nutt':241 'observation':303 'p':293 'paar':131 'pff':319 'pitbulls':425 'powern':428 'pull':364 'pumpt':13,46 'rap':439 'rapp':112 'red':113,395 'reeperbahn':312 'reeperbahn-hur':311 'restart':158 'richtig':6,14 'rum':157 'rück':356 'rücksicht':276 's':370 'sack':360 'sag':69 'schaf':417 'scharf':174 'schieb':197 'schien':54 'schießt':173 'schizophreni':125 'schlag':377 'schlapp':366 'schlimm':215,455 'schnackers':218,458 'schnapp':352 'schon':139 'schul':317 'schwitz':433 'schädel':380 'schämen':399 'sein':63 'sich':246,429 'sie':189,227,235,308,388,421 'sind':436 'so':108,122,225,233,299,443 'solang':96 'solltest':397 'sonn':354 'spar':392 'spaß':383 'spiegel':68 'splittergrupp':179 'steh':309 'strahlt':80 'straß':411 'streets':201 'strippt':236 'stumm':148 'stück':348 'sub':9,10 'sub-sub-subwoof':8 'subwoof':11 'sucht':446 'tasch':37 'teufel':328 'tief':15 'tisch':256 'tn':369 'trag':367 'trainier':426 'tss':116 'typ':79 'u':294 'uhse':302 'umsatz':30 'und':152,175,273,283,335,390,427 'unfassb':43 'uns':143,325 'unser':155 'unten':288 'unter':142 'untergangsbass':50 'untergrund':129 'verfehlt':304 'verklebt':339 'versuch':305 'verteil':176 'viel':185,220,460 'voll':38,321 'von':114,191 'vorbildfunktion':318 'war':106 'was':75 'weißt':99 'wenn':134,187 'wer':28,100 'werd':86 'wert':76 'west':402 'wie':48,82,109,123,167,180,205,261,300,310,444 'wir':105,135,150,296,306,331,406 'wird':137,365 'wo':405 'woll':332 'wrack':343 'wumm':358 'z':295 'zeen':118,212 'zeit':416 'zerstört':65 'ziehkraft':164 'zieht':242 'zu':418 'zugekifft':91 'zum':265 'zur':316 'zurück':253 'zweifeln':160 'zwiespalt':193 'zählen':419\")\n"
     ]
    }
   ],
   "source": [
    "query = \"\"\"\n",
    "SELECT * FROM db2.spotify_songs WHERE tsv @@ to_tsquery('spanish', 'Diggah & richtig & fies & Sub-Sub-Subwoofer & Bass');\n",
    "\"\"\"\n",
    "\n",
    "cursor.execute(query)\n",
    "record = cursor.fetchall()\n",
    "\n",
    "for row in record:\n",
    "\t\tprint(row)\n",
    "\n"
   ]
  },
  {
   "cell_type": "code",
   "execution_count": 7,
   "metadata": {},
   "outputs": [
    {
     "data": {
      "text/html": [
       "<div>\n",
       "<style scoped>\n",
       "    .dataframe tbody tr th:only-of-type {\n",
       "        vertical-align: middle;\n",
       "    }\n",
       "\n",
       "    .dataframe tbody tr th {\n",
       "        vertical-align: top;\n",
       "    }\n",
       "\n",
       "    .dataframe thead th {\n",
       "        text-align: right;\n",
       "    }\n",
       "</style>\n",
       "<table border=\"1\" class=\"dataframe\">\n",
       "  <thead>\n",
       "    <tr style=\"text-align: right;\">\n",
       "      <th></th>\n",
       "      <th>id</th>\n",
       "      <th>track_name</th>\n",
       "      <th>track_artist</th>\n",
       "      <th>lyrics</th>\n",
       "      <th>tsv</th>\n",
       "    </tr>\n",
       "  </thead>\n",
       "  <tbody>\n",
       "    <tr>\n",
       "      <th>0</th>\n",
       "      <td>7</td>\n",
       "      <td>Satisfy You</td>\n",
       "      <td>Diddy</td>\n",
       "      <td>All I want is somebody who's gonna love me for...</td>\n",
       "      <td>'ador':675 'ain':31,136,209,273,278,409,562 'a...</td>\n",
       "    </tr>\n",
       "    <tr>\n",
       "      <th>1</th>\n",
       "      <td>14</td>\n",
       "      <td>Changes</td>\n",
       "      <td>2Pac</td>\n",
       "      <td>I see no changes, wake up in the morning and I...</td>\n",
       "      <td>'2pac':2 'about':52 'actin':288 'after':726 'a...</td>\n",
       "    </tr>\n",
       "    <tr>\n",
       "      <th>2</th>\n",
       "      <td>112</td>\n",
       "      <td>Payback - Original Mix</td>\n",
       "      <td>Sandro Silva</td>\n",
       "      <td>NaN</td>\n",
       "      <td>'mix':3 'nan':6 'original':2 'payback':1 'sand...</td>\n",
       "    </tr>\n",
       "    <tr>\n",
       "      <th>3</th>\n",
       "      <td>122</td>\n",
       "      <td>How Ya Like Me Now - Longer Version</td>\n",
       "      <td>Kool Moe Dee</td>\n",
       "      <td>NA I throw my tape on then, I watch ya Three s...</td>\n",
       "      <td>'about':347,617 'again':376 'ain':91 'all':185...</td>\n",
       "    </tr>\n",
       "    <tr>\n",
       "      <th>4</th>\n",
       "      <td>125</td>\n",
       "      <td>No Hands (feat. Roscoe Dash &amp; Wale)</td>\n",
       "      <td>Waka Flocka Flame</td>\n",
       "      <td>Listen to this track, bitch! Girl, the way you...</td>\n",
       "      <td>'16':464,1278 '50':174,988 '70':171,985 'after...</td>\n",
       "    </tr>\n",
       "    <tr>\n",
       "      <th>5</th>\n",
       "      <td>3737</td>\n",
       "      <td>Definition of House Music</td>\n",
       "      <td>The Bloody Beetroots</td>\n",
       "      <td>Lyrics for this song have yet to be released. ...</td>\n",
       "      <td>'back':19 'be':15 'been':24 'beetroots':7 'blo...</td>\n",
       "    </tr>\n",
       "    <tr>\n",
       "      <th>6</th>\n",
       "      <td>199</td>\n",
       "      <td>Ich Binnezz</td>\n",
       "      <td>Bonez MC</td>\n",
       "      <td>Diggah richtig fies Sub-Sub-Subwoofer Bass pum...</td>\n",
       "      <td>'187ers':159 '808':47 'aber':184 'alles':217,4...</td>\n",
       "    </tr>\n",
       "    <tr>\n",
       "      <th>7</th>\n",
       "      <td>200</td>\n",
       "      <td>Conte a Todos</td>\n",
       "      <td>Sango</td>\n",
       "      <td>NaN</td>\n",
       "      <td>'cont':1 'nan':5 'sang':4</td>\n",
       "    </tr>\n",
       "    <tr>\n",
       "      <th>8</th>\n",
       "      <td>201</td>\n",
       "      <td>Lucifer</td>\n",
       "      <td>JAY-Z</td>\n",
       "      <td>NA Kanyeezy you did it again, you a genius nig...</td>\n",
       "      <td>'abov':303 'after':175 'again':10,583 'ain':10...</td>\n",
       "    </tr>\n",
       "    <tr>\n",
       "      <th>9</th>\n",
       "      <td>203</td>\n",
       "      <td>Middle Of The Night</td>\n",
       "      <td>MJG</td>\n",
       "      <td>Ahh yeah mic check 1, 2 Eightball and MJG spac...</td>\n",
       "      <td>'1':10 '2':11 'abc':893 'about':57,123 'affa':...</td>\n",
       "    </tr>\n",
       "  </tbody>\n",
       "</table>\n",
       "</div>"
      ],
      "text/plain": [
       "     id                           track_name          track_artist  \\\n",
       "0     7                          Satisfy You                 Diddy   \n",
       "1    14                              Changes                  2Pac   \n",
       "2   112               Payback - Original Mix          Sandro Silva   \n",
       "3   122  How Ya Like Me Now - Longer Version          Kool Moe Dee   \n",
       "4   125  No Hands (feat. Roscoe Dash & Wale)     Waka Flocka Flame   \n",
       "5  3737            Definition of House Music  The Bloody Beetroots   \n",
       "6   199                          Ich Binnezz              Bonez MC   \n",
       "7   200                        Conte a Todos                 Sango   \n",
       "8   201                              Lucifer                 JAY-Z   \n",
       "9   203                  Middle Of The Night                   MJG   \n",
       "\n",
       "                                              lyrics  \\\n",
       "0  All I want is somebody who's gonna love me for...   \n",
       "1  I see no changes, wake up in the morning and I...   \n",
       "2                                                NaN   \n",
       "3  NA I throw my tape on then, I watch ya Three s...   \n",
       "4  Listen to this track, bitch! Girl, the way you...   \n",
       "5  Lyrics for this song have yet to be released. ...   \n",
       "6  Diggah richtig fies Sub-Sub-Subwoofer Bass pum...   \n",
       "7                                                NaN   \n",
       "8  NA Kanyeezy you did it again, you a genius nig...   \n",
       "9  Ahh yeah mic check 1, 2 Eightball and MJG spac...   \n",
       "\n",
       "                                                 tsv  \n",
       "0  'ador':675 'ain':31,136,209,273,278,409,562 'a...  \n",
       "1  '2pac':2 'about':52 'actin':288 'after':726 'a...  \n",
       "2  'mix':3 'nan':6 'original':2 'payback':1 'sand...  \n",
       "3  'about':347,617 'again':376 'ain':91 'all':185...  \n",
       "4  '16':464,1278 '50':174,988 '70':171,985 'after...  \n",
       "5  'back':19 'be':15 'been':24 'beetroots':7 'blo...  \n",
       "6  '187ers':159 '808':47 'aber':184 'alles':217,4...  \n",
       "7                          'cont':1 'nan':5 'sang':4  \n",
       "8  'abov':303 'after':175 'again':10,583 'ain':10...  \n",
       "9  '1':10 '2':11 'abc':893 'about':57,123 'affa':...  "
      ]
     },
     "execution_count": 7,
     "metadata": {},
     "output_type": "execute_result"
    }
   ],
   "source": [
    "\n",
    "\n",
    "\n",
    "def mostrar_datos_tabla(cursor, limit=None):\n",
    "\ttry:\n",
    "\t\tquery = \"SELECT * FROM db2.spotify_songs\"\n",
    "\t\tif limit:\n",
    "\t\t\tquery += f\" LIMIT {limit}\"\n",
    "\t\tcursor.execute(query)\n",
    "\t\trecords = cursor.fetchall()\n",
    "\t\tdf = pd.DataFrame(records, columns=['id', 'track_name', 'track_artist', 'lyrics', 'tsv'])\n",
    "\t\treturn df\n",
    "\texcept (Exception, pg.Error) as error:\n",
    "\t\tprint(\"Error al obtener los datos de la tabla: \", error)\n",
    "\n",
    "# Ejemplo de uso\n",
    "df_songs = mostrar_datos_tabla(cursor, limit=10)\n",
    "df_songs"
   ]
  },
  {
   "cell_type": "code",
   "execution_count": null,
   "metadata": {},
   "outputs": [],
   "source": []
  },
  {
   "cell_type": "code",
   "execution_count": null,
   "metadata": {},
   "outputs": [],
   "source": []
  },
  {
   "cell_type": "code",
   "execution_count": null,
   "metadata": {},
   "outputs": [],
   "source": []
  },
  {
   "cell_type": "code",
   "execution_count": null,
   "metadata": {},
   "outputs": [],
   "source": []
  },
  {
   "cell_type": "code",
   "execution_count": null,
   "metadata": {},
   "outputs": [],
   "source": []
  },
  {
   "cell_type": "code",
   "execution_count": null,
   "metadata": {},
   "outputs": [],
   "source": []
  }
 ],
 "metadata": {
  "kernelspec": {
   "display_name": ".venv",
   "language": "python",
   "name": "python3"
  },
  "language_info": {
   "codemirror_mode": {
    "name": "ipython",
    "version": 3
   },
   "file_extension": ".py",
   "mimetype": "text/x-python",
   "name": "python",
   "nbconvert_exporter": "python",
   "pygments_lexer": "ipython3",
   "version": "3.12.3"
  }
 },
 "nbformat": 4,
 "nbformat_minor": 2
}
